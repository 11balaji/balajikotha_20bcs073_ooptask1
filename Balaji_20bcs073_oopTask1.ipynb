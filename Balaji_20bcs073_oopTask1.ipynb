{
  "nbformat": 4,
  "nbformat_minor": 0,
  "metadata": {
    "colab": {
      "name": "Balaji_20bcs073_oopTask1",
      "provenance": [],
      "authorship_tag": "ABX9TyPNLObugYxJ7l0F/tdXkXIc",
      "include_colab_link": true
    },
    "kernelspec": {
      "name": "python3",
      "display_name": "Python 3"
    },
    "language_info": {
      "name": "python"
    }
  },
  "cells": [
    {
      "cell_type": "markdown",
      "metadata": {
        "id": "view-in-github",
        "colab_type": "text"
      },
      "source": [
        "<a href=\"https://colab.research.google.com/github/11balaji/balajikotha_20bcs073_ooptask1/blob/main/Balaji_20bcs073_oopTask1.ipynb\" target=\"_parent\"><img src=\"https://colab.research.google.com/assets/colab-badge.svg\" alt=\"Open In Colab\"/></a>"
      ]
    },
    {
      "cell_type": "code",
      "metadata": {
        "colab": {
          "base_uri": "https://localhost:8080/"
        },
        "id": "_1C6lsv3cJIM",
        "outputId": "ce438d47-ab0b-46da-cc3f-4bf610902031"
      },
      "source": [
        "year = int(input(\"Enter the Year number: \"))\n",
        "\n",
        "def checkyear(year):\n",
        "  if(year%400 == 0):\n",
        "    print('year is a leap year')\n",
        "    return(True)\n",
        "    \n",
        "  elif(year%4==0 and year %100 != 0):\n",
        "    print('year is a leap year')\n",
        "    return(TRUE)\n",
        "    \n",
        "  else:\n",
        "    print('year is not a leap year')\n",
        "    return(False)\n",
        "    \n",
        "checkyear(year)"
      ],
      "execution_count": 4,
      "outputs": [
        {
          "output_type": "stream",
          "name": "stdout",
          "text": [
            "Enter the Year number: 2050\n",
            "year is not a leap year\n"
          ]
        },
        {
          "output_type": "execute_result",
          "data": {
            "text/plain": [
              "False"
            ]
          },
          "metadata": {},
          "execution_count": 4
        }
      ]
    },
    {
      "cell_type": "code",
      "metadata": {
        "colab": {
          "base_uri": "https://localhost:8080/"
        },
        "id": "22Xy9oyCjg0Z",
        "outputId": "a11c02c0-f1b7-44c1-b518-102aeddecc33"
      },
      "source": [
        "n = int(input(\"Enter a number: \"))\n",
        "if(n%2 != 0):\n",
        "  print(\"Weird\")  \n",
        "elif(n%2 == 0):\n",
        "  if(n>= 2 and n<=5):\n",
        "    print(\"Not Weird\")\n",
        "  if(n>=5 and n<=20):\n",
        "    print(\"Weird\")\n",
        "  if(n>20):\n",
        "    print(\"Not Weird\")"
      ],
      "execution_count": 10,
      "outputs": [
        {
          "output_type": "stream",
          "name": "stdout",
          "text": [
            "Enter a number: 13\n",
            "Weird\n"
          ]
        }
      ]
    },
    {
      "cell_type": "code",
      "metadata": {
        "colab": {
          "base_uri": "https://localhost:8080/"
        },
        "id": "EeKawOjmj7Yc",
        "outputId": "21f9d81b-1d3e-4dca-8088-f7eb5dbdd2fc"
      },
      "source": [
        "n = int(input(\"Enter the number of guests: \"))\n",
        "guests = []\n",
        "for i in range(0, n):\n",
        "  name = str(input(\"enter the name of guests: \"))\n",
        "  guests.append([name])\n",
        "print(\"Guests are: \", guests)\n",
        "if(n%2==0):\n",
        "  for k in range( int((n)/2) , n-1):\n",
        "    print(\"\\nFashionable late persons are: \", guests[k])\n",
        "elif(n%2 != 0):\n",
        "  for k in range( int((n-1)/2) , n-1):\n",
        "    print(\"\\nFashionable late persons are: \", guests[k])"
      ],
      "execution_count": 19,
      "outputs": [
        {
          "output_type": "stream",
          "name": "stdout",
          "text": [
            "Enter the number of guests: 5\n",
            "enter the name of guests: ram\n",
            "enter the name of guests: rohit\n",
            "enter the name of guests: karthik\n",
            "enter the name of guests: charan\n",
            "enter the name of guests: virat\n",
            "Guests are:  [['ram'], ['rohit'], ['karthik'], ['charan'], ['virat']]\n",
            "\n",
            "Fashionable late persons are:  ['karthik']\n",
            "\n",
            "Fashionable late persons are:  ['charan']\n"
          ]
        }
      ]
    },
    {
      "cell_type": "code",
      "metadata": {
        "colab": {
          "base_uri": "https://localhost:8080/"
        },
        "id": "a96CLZmuu_eo",
        "outputId": "c0f66419-931f-41ea-d77b-82b6ba1c437f"
      },
      "source": [
        "BP = float(input(\"Enter the Basic Pay: \"))\n",
        "DA = (40*BP)/100\n",
        "HRA = (20*BP)/100\n",
        "GP = BP + DA + HRA\n",
        "print('Gross pay is:',GP)"
      ],
      "execution_count": 20,
      "outputs": [
        {
          "output_type": "stream",
          "name": "stdout",
          "text": [
            "Enter the Basic Pay: 90000\n",
            "Gross pay is: 144000.0\n"
          ]
        }
      ]
    },
    {
      "cell_type": "code",
      "metadata": {
        "colab": {
          "base_uri": "https://localhost:8080/"
        },
        "id": "ulNj2BVmvbft",
        "outputId": "e30d10a4-ce6a-4282-dac1-720a35cfc37e"
      },
      "source": [
        "def word_search_2(title_list, keyword):\n",
        "    # make lowercase and remove punctuation\n",
        "    keyword = keyword.lower().strip('.,')\n",
        "\n",
        "    result_list = []\n",
        "    for i, title in enumerate(title_list):\n",
        "        # make lowercase and remove punctuation, then split into words\n",
        "        words = title.lower().strip('.,').split()\n",
        "\n",
        "        if keyword in words:\n",
        "            result_list.append((i, title))\n",
        "\n",
        "    return result_list\n",
        "\n",
        "if __name__ == '__main__':\n",
        "    docs = [\n",
        "        'The Learn Python Challenge Casino',\n",
        "        'They bought a car, and a horse',\n",
        "        'The big casino.',\n",
        "        'Casinoville?',\n",
        "    ]\n",
        "    w = 'casino'\n",
        "\n",
        "    print(word_search_2(docs, w))\n",
        "\n"
      ],
      "execution_count": 22,
      "outputs": [
        {
          "output_type": "stream",
          "name": "stdout",
          "text": [
            "[(0, 'The Learn Python Challenge Casino'), (2, 'The big casino.')]\n"
          ]
        }
      ]
    }
  ]
}